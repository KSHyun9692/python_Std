{
 "cells": [
  {
   "cell_type": "code",
   "execution_count": 1,
   "id": "3bd5ebb5",
   "metadata": {},
   "outputs": [
    {
     "name": "stdout",
     "output_type": "stream",
     "text": [
      "Collecting xlwings\n",
      "  Downloading xlwings-0.33.15-cp313-cp313-win_amd64.whl.metadata (6.5 kB)\n",
      "Requirement already satisfied: pywin32>=224 in c:\\users\\qbvmv\\appdata\\local\\programs\\python\\python313\\lib\\site-packages (from xlwings) (311)\n",
      "Downloading xlwings-0.33.15-cp313-cp313-win_amd64.whl (1.6 MB)\n",
      "   ---------------------------------------- 0.0/1.6 MB ? eta -:--:--\n",
      "   ---------------------------------------- 1.6/1.6 MB 28.8 MB/s  0:00:00\n",
      "Installing collected packages: xlwings\n",
      "Successfully installed xlwings-0.33.15\n",
      "Note: you may need to restart the kernel to use updated packages.\n"
     ]
    }
   ],
   "source": [
    "pip install xlwings"
   ]
  },
  {
   "cell_type": "code",
   "execution_count": 2,
   "id": "17e5eaf5",
   "metadata": {},
   "outputs": [
    {
     "ename": "com_error",
     "evalue": "(-2147221005, '잘못된 클래스 문자열입니다.', None, None)",
     "output_type": "error",
     "traceback": [
      "\u001b[31m---------------------------------------------------------------------------\u001b[39m",
      "\u001b[31mcom_error\u001b[39m                                 Traceback (most recent call last)",
      "\u001b[36mCell\u001b[39m\u001b[36m \u001b[39m\u001b[32mIn[2]\u001b[39m\u001b[32m, line 3\u001b[39m\n\u001b[32m      1\u001b[39m \u001b[38;5;28;01mimport\u001b[39;00m\u001b[38;5;250m \u001b[39m\u001b[34;01mxlwings\u001b[39;00m\u001b[38;5;250m \u001b[39m\u001b[38;5;28;01mas\u001b[39;00m\u001b[38;5;250m \u001b[39m\u001b[34;01mxw\u001b[39;00m\n\u001b[32m----> \u001b[39m\u001b[32m3\u001b[39m wb = \u001b[43mxw\u001b[49m\u001b[43m.\u001b[49m\u001b[43mBook\u001b[49m\u001b[43m(\u001b[49m\u001b[43m)\u001b[49m\n",
      "\u001b[36mFile \u001b[39m\u001b[32mc:\\Users\\qbvmv\\AppData\\Local\\Programs\\Python\\Python313\\Lib\\site-packages\\xlwings\\main.py:962\u001b[39m, in \u001b[36mBook.__init__\u001b[39m\u001b[34m(self, fullname, update_links, read_only, format, password, write_res_password, ignore_read_only_recommended, origin, delimiter, editable, notify, converter, add_to_mru, local, corrupt_load, impl, json, mode, engine, **kwargs)\u001b[39m\n\u001b[32m    960\u001b[39m             impl = apps.active.books.add().impl\n\u001b[32m    961\u001b[39m         \u001b[38;5;28;01melse\u001b[39;00m:\n\u001b[32m--> \u001b[39m\u001b[32m962\u001b[39m             app = \u001b[43mApp\u001b[49m\u001b[43m(\u001b[49m\u001b[43m)\u001b[49m\n\u001b[32m    963\u001b[39m             impl = app.books[\u001b[32m0\u001b[39m].impl\n\u001b[32m    965\u001b[39m \u001b[38;5;28mself\u001b[39m.impl = impl\n",
      "\u001b[36mFile \u001b[39m\u001b[32mc:\\Users\\qbvmv\\AppData\\Local\\Programs\\Python\\Python313\\Lib\\site-packages\\xlwings\\main.py:312\u001b[39m, in \u001b[36mApp.__init__\u001b[39m\u001b[34m(self, visible, spec, add_book, impl)\u001b[39m\n\u001b[32m    310\u001b[39m \u001b[38;5;28;01mdef\u001b[39;00m\u001b[38;5;250m \u001b[39m\u001b[34m__init__\u001b[39m(\u001b[38;5;28mself\u001b[39m, visible=\u001b[38;5;28;01mNone\u001b[39;00m, spec=\u001b[38;5;28;01mNone\u001b[39;00m, add_book=\u001b[38;5;28;01mTrue\u001b[39;00m, impl=\u001b[38;5;28;01mNone\u001b[39;00m):\n\u001b[32m    311\u001b[39m     \u001b[38;5;28;01mif\u001b[39;00m impl \u001b[38;5;129;01mis\u001b[39;00m \u001b[38;5;28;01mNone\u001b[39;00m:\n\u001b[32m--> \u001b[39m\u001b[32m312\u001b[39m         \u001b[38;5;28mself\u001b[39m.impl = \u001b[43mengines\u001b[49m\u001b[43m.\u001b[49m\u001b[43mactive\u001b[49m\u001b[43m.\u001b[49m\u001b[43mapps\u001b[49m\u001b[43m.\u001b[49m\u001b[43madd\u001b[49m\u001b[43m(\u001b[49m\n\u001b[32m    313\u001b[39m \u001b[43m            \u001b[49m\u001b[43mspec\u001b[49m\u001b[43m=\u001b[49m\u001b[43mspec\u001b[49m\u001b[43m,\u001b[49m\u001b[43m \u001b[49m\u001b[43madd_book\u001b[49m\u001b[43m=\u001b[49m\u001b[43madd_book\u001b[49m\u001b[43m,\u001b[49m\u001b[43m \u001b[49m\u001b[43mvisible\u001b[49m\u001b[43m=\u001b[49m\u001b[43mvisible\u001b[49m\n\u001b[32m    314\u001b[39m \u001b[43m        \u001b[49m\u001b[43m)\u001b[49m.impl\n\u001b[32m    315\u001b[39m         \u001b[38;5;28;01mif\u001b[39;00m visible \u001b[38;5;129;01mor\u001b[39;00m visible \u001b[38;5;129;01mis\u001b[39;00m \u001b[38;5;28;01mNone\u001b[39;00m:\n\u001b[32m    316\u001b[39m             \u001b[38;5;28mself\u001b[39m.visible = \u001b[38;5;28;01mTrue\u001b[39;00m\n",
      "\u001b[36mFile \u001b[39m\u001b[32mc:\\Users\\qbvmv\\AppData\\Local\\Programs\\Python\\Python313\\Lib\\site-packages\\xlwings\\main.py:211\u001b[39m, in \u001b[36mApps.add\u001b[39m\u001b[34m(self, **kwargs)\u001b[39m\n\u001b[32m    207\u001b[39m \u001b[38;5;28;01mdef\u001b[39;00m\u001b[38;5;250m \u001b[39m\u001b[34madd\u001b[39m(\u001b[38;5;28mself\u001b[39m, **kwargs):\n\u001b[32m    208\u001b[39m \u001b[38;5;250m    \u001b[39m\u001b[33;03m\"\"\"\u001b[39;00m\n\u001b[32m    209\u001b[39m \u001b[33;03m    Creates a new App. The new App becomes the active one. Returns an App object.\u001b[39;00m\n\u001b[32m    210\u001b[39m \u001b[33;03m    \"\"\"\u001b[39;00m\n\u001b[32m--> \u001b[39m\u001b[32m211\u001b[39m     \u001b[38;5;28;01mreturn\u001b[39;00m App(impl=\u001b[38;5;28;43mself\u001b[39;49m\u001b[43m.\u001b[49m\u001b[43mimpl\u001b[49m\u001b[43m.\u001b[49m\u001b[43madd\u001b[49m\u001b[43m(\u001b[49m\u001b[43m*\u001b[49m\u001b[43m*\u001b[49m\u001b[43mkwargs\u001b[49m\u001b[43m)\u001b[49m)\n",
      "\u001b[36mFile \u001b[39m\u001b[32mc:\\Users\\qbvmv\\AppData\\Local\\Programs\\Python\\Python313\\Lib\\site-packages\\xlwings\\_xlwindows.py:510\u001b[39m, in \u001b[36mApps.add\u001b[39m\u001b[34m(self, spec, add_book, xl, visible)\u001b[39m\n\u001b[32m    509\u001b[39m \u001b[38;5;28;01mdef\u001b[39;00m\u001b[38;5;250m \u001b[39m\u001b[34madd\u001b[39m(\u001b[38;5;28mself\u001b[39m, spec=\u001b[38;5;28;01mNone\u001b[39;00m, add_book=\u001b[38;5;28;01mNone\u001b[39;00m, xl=\u001b[38;5;28;01mNone\u001b[39;00m, visible=\u001b[38;5;28;01mNone\u001b[39;00m):\n\u001b[32m--> \u001b[39m\u001b[32m510\u001b[39m     \u001b[38;5;28;01mreturn\u001b[39;00m \u001b[43mApp\u001b[49m\u001b[43m(\u001b[49m\u001b[43mspec\u001b[49m\u001b[43m=\u001b[49m\u001b[43mspec\u001b[49m\u001b[43m,\u001b[49m\u001b[43m \u001b[49m\u001b[43madd_book\u001b[49m\u001b[43m=\u001b[49m\u001b[43madd_book\u001b[49m\u001b[43m,\u001b[49m\u001b[43m \u001b[49m\u001b[43mxl\u001b[49m\u001b[43m=\u001b[49m\u001b[43mxl\u001b[49m\u001b[43m,\u001b[49m\u001b[43m \u001b[49m\u001b[43mvisible\u001b[49m\u001b[43m=\u001b[49m\u001b[43mvisible\u001b[49m\u001b[43m)\u001b[49m\n",
      "\u001b[36mFile \u001b[39m\u001b[32mc:\\Users\\qbvmv\\AppData\\Local\\Programs\\Python\\Python313\\Lib\\site-packages\\xlwings\\_xlwindows.py:563\u001b[39m, in \u001b[36mApp.__init__\u001b[39m\u001b[34m(self, spec, add_book, xl, visible)\u001b[39m\n\u001b[32m    560\u001b[39m     warn(\u001b[33m\"\u001b[39m\u001b[33mspec is ignored on Windows.\u001b[39m\u001b[33m\"\u001b[39m)\n\u001b[32m    561\u001b[39m \u001b[38;5;28;01mif\u001b[39;00m xl \u001b[38;5;129;01mis\u001b[39;00m \u001b[38;5;28;01mNone\u001b[39;00m:\n\u001b[32m    562\u001b[39m     \u001b[38;5;66;03m# new instance\u001b[39;00m\n\u001b[32m--> \u001b[39m\u001b[32m563\u001b[39m     \u001b[38;5;28mself\u001b[39m._xl = COMRetryObjectWrapper(\u001b[43mDispatchEx\u001b[49m\u001b[43m(\u001b[49m\u001b[33;43m\"\u001b[39;49m\u001b[33;43mExcel.Application\u001b[39;49m\u001b[33;43m\"\u001b[39;49m\u001b[43m)\u001b[49m)\n\u001b[32m    564\u001b[39m     \u001b[38;5;28;01mif\u001b[39;00m add_book:\n\u001b[32m    565\u001b[39m         \u001b[38;5;28mself\u001b[39m._xl.Workbooks.Add()\n",
      "\u001b[36mFile \u001b[39m\u001b[32mc:\\Users\\qbvmv\\AppData\\Local\\Programs\\Python\\Python313\\Lib\\site-packages\\win32com\\client\\__init__.py:142\u001b[39m, in \u001b[36mDispatchEx\u001b[39m\u001b[34m(clsid, machine, userName, resultCLSID, typeinfo, clsctx)\u001b[39m\n\u001b[32m    140\u001b[39m \u001b[38;5;28;01mif\u001b[39;00m userName \u001b[38;5;129;01mis\u001b[39;00m \u001b[38;5;28;01mNone\u001b[39;00m:\n\u001b[32m    141\u001b[39m     userName = clsid\n\u001b[32m--> \u001b[39m\u001b[32m142\u001b[39m dispatch = \u001b[43mpythoncom\u001b[49m\u001b[43m.\u001b[49m\u001b[43mCoCreateInstanceEx\u001b[49m\u001b[43m(\u001b[49m\n\u001b[32m    143\u001b[39m \u001b[43m    \u001b[49m\u001b[43mclsid\u001b[49m\u001b[43m,\u001b[49m\u001b[43m \u001b[49m\u001b[38;5;28;43;01mNone\u001b[39;49;00m\u001b[43m,\u001b[49m\u001b[43m \u001b[49m\u001b[43mclsctx\u001b[49m\u001b[43m,\u001b[49m\u001b[43m \u001b[49m\u001b[43mserverInfo\u001b[49m\u001b[43m,\u001b[49m\u001b[43m \u001b[49m\u001b[43m(\u001b[49m\u001b[43mpythoncom\u001b[49m\u001b[43m.\u001b[49m\u001b[43mIID_IDispatch\u001b[49m\u001b[43m,\u001b[49m\u001b[43m)\u001b[49m\n\u001b[32m    144\u001b[39m \u001b[43m\u001b[49m\u001b[43m)\u001b[49m[\u001b[32m0\u001b[39m]\n\u001b[32m    145\u001b[39m \u001b[38;5;28;01mreturn\u001b[39;00m Dispatch(dispatch, userName, resultCLSID, typeinfo, clsctx=clsctx)\n",
      "\u001b[31mcom_error\u001b[39m: (-2147221005, '잘못된 클래스 문자열입니다.', None, None)"
     ]
    }
   ],
   "source": [
    "import xlwings as xw\n",
    "\n",
    "wb = xw.Book()\n"
   ]
  },
  {
   "cell_type": "code",
   "execution_count": null,
   "id": "1acc485f",
   "metadata": {},
   "outputs": [],
   "source": []
  }
 ],
 "metadata": {
  "kernelspec": {
   "display_name": "Python 3",
   "language": "python",
   "name": "python3"
  },
  "language_info": {
   "codemirror_mode": {
    "name": "ipython",
    "version": 3
   },
   "file_extension": ".py",
   "mimetype": "text/x-python",
   "name": "python",
   "nbconvert_exporter": "python",
   "pygments_lexer": "ipython3",
   "version": "3.13.7"
  }
 },
 "nbformat": 4,
 "nbformat_minor": 5
}
