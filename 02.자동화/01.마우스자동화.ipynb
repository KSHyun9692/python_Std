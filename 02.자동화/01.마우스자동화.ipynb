{
 "cells": [
  {
   "cell_type": "code",
   "execution_count": 1,
   "id": "663cefde",
   "metadata": {},
   "outputs": [
    {
     "name": "stdout",
     "output_type": "stream",
     "text": [
      "Collecting pyautogui\n",
      "  Downloading PyAutoGUI-0.9.54.tar.gz (61 kB)\n",
      "  Installing build dependencies: started\n",
      "  Installing build dependencies: finished with status 'done'\n",
      "  Getting requirements to build wheel: started\n",
      "  Getting requirements to build wheel: finished with status 'done'\n",
      "  Preparing metadata (pyproject.toml): started\n",
      "  Preparing metadata (pyproject.toml): finished with status 'done'\n",
      "Collecting pymsgbox (from pyautogui)\n",
      "  Downloading PyMsgBox-1.0.9.tar.gz (18 kB)\n",
      "  Installing build dependencies: started\n",
      "  Installing build dependencies: finished with status 'done'\n",
      "  Getting requirements to build wheel: started\n",
      "  Getting requirements to build wheel: finished with status 'done'\n",
      "  Preparing metadata (pyproject.toml): started\n",
      "  Preparing metadata (pyproject.toml): finished with status 'done'\n",
      "Collecting pytweening>=1.0.4 (from pyautogui)\n",
      "  Downloading pytweening-1.2.0.tar.gz (171 kB)\n",
      "  Installing build dependencies: started\n",
      "  Installing build dependencies: finished with status 'done'\n",
      "  Getting requirements to build wheel: started\n",
      "  Getting requirements to build wheel: finished with status 'done'\n",
      "  Preparing metadata (pyproject.toml): started\n",
      "  Preparing metadata (pyproject.toml): finished with status 'done'\n",
      "Collecting pyscreeze>=0.1.21 (from pyautogui)\n",
      "  Downloading pyscreeze-1.0.1.tar.gz (27 kB)\n",
      "  Installing build dependencies: started\n",
      "  Installing build dependencies: finished with status 'done'\n",
      "  Getting requirements to build wheel: started\n",
      "  Getting requirements to build wheel: finished with status 'done'\n",
      "  Preparing metadata (pyproject.toml): started\n",
      "  Preparing metadata (pyproject.toml): finished with status 'done'\n",
      "Collecting pygetwindow>=0.0.5 (from pyautogui)\n",
      "  Downloading PyGetWindow-0.0.9.tar.gz (9.7 kB)\n",
      "  Installing build dependencies: started\n",
      "  Installing build dependencies: finished with status 'done'\n",
      "  Getting requirements to build wheel: started\n",
      "  Getting requirements to build wheel: finished with status 'done'\n",
      "  Preparing metadata (pyproject.toml): started\n",
      "  Preparing metadata (pyproject.toml): finished with status 'done'\n",
      "Collecting mouseinfo (from pyautogui)\n",
      "  Downloading MouseInfo-0.1.3.tar.gz (10 kB)\n",
      "  Installing build dependencies: started\n",
      "  Installing build dependencies: finished with status 'done'\n",
      "  Getting requirements to build wheel: started\n",
      "  Getting requirements to build wheel: finished with status 'done'\n",
      "  Preparing metadata (pyproject.toml): started\n",
      "  Preparing metadata (pyproject.toml): finished with status 'done'\n",
      "Collecting pyrect (from pygetwindow>=0.0.5->pyautogui)\n",
      "  Downloading PyRect-0.2.0.tar.gz (17 kB)\n",
      "  Installing build dependencies: started\n",
      "  Installing build dependencies: finished with status 'done'\n",
      "  Getting requirements to build wheel: started\n",
      "  Getting requirements to build wheel: finished with status 'done'\n",
      "  Preparing metadata (pyproject.toml): started\n",
      "  Preparing metadata (pyproject.toml): finished with status 'done'\n",
      "Collecting pyperclip (from mouseinfo->pyautogui)\n",
      "  Downloading pyperclip-1.9.0.tar.gz (20 kB)\n",
      "  Installing build dependencies: started\n",
      "  Installing build dependencies: finished with status 'done'\n",
      "  Getting requirements to build wheel: started\n",
      "  Getting requirements to build wheel: finished with status 'done'\n",
      "  Preparing metadata (pyproject.toml): started\n",
      "  Preparing metadata (pyproject.toml): finished with status 'done'\n",
      "Building wheels for collected packages: pyautogui, pygetwindow, pyscreeze, pytweening, mouseinfo, pymsgbox, pyperclip, pyrect\n",
      "  Building wheel for pyautogui (pyproject.toml): started\n",
      "  Building wheel for pyautogui (pyproject.toml): finished with status 'done'\n",
      "  Created wheel for pyautogui: filename=pyautogui-0.9.54-py3-none-any.whl size=37707 sha256=46e0717356d62590f1a79914cb397ac6560411b2188602e53e186d3cbc7cebc9\n",
      "  Stored in directory: c:\\users\\qbvmv\\appdata\\local\\pip\\cache\\wheels\\9c\\22\\e7\\c97f656d0790ef69feae4fcc7bbc1fc648f1b37879f52e7480\n",
      "  Building wheel for pygetwindow (pyproject.toml): started\n",
      "  Building wheel for pygetwindow (pyproject.toml): finished with status 'done'\n",
      "  Created wheel for pygetwindow: filename=pygetwindow-0.0.9-py3-none-any.whl size=11137 sha256=06cc331de9e28d3f5ee588a62daf5d0f394b2ff2e81bfa1fb6df7ebb89c8d775\n",
      "  Stored in directory: c:\\users\\qbvmv\\appdata\\local\\pip\\cache\\wheels\\87\\94\\20\\4e4ddd07e7276e44a38ac39d5b6c919d38ef27b9ebc5041e0f\n",
      "  Building wheel for pyscreeze (pyproject.toml): started\n",
      "  Building wheel for pyscreeze (pyproject.toml): finished with status 'done'\n",
      "  Created wheel for pyscreeze: filename=pyscreeze-1.0.1-py3-none-any.whl size=14481 sha256=cba07025a4c8904a8efd305c9b4d4303a823fb97f39b0c95848e2f6f78b203b6\n",
      "  Stored in directory: c:\\users\\qbvmv\\appdata\\local\\pip\\cache\\wheels\\1c\\6e\\d7\\0acfbc5116e11006753649efc7cb40bb9df98990798a21960d\n",
      "  Building wheel for pytweening (pyproject.toml): started\n",
      "  Building wheel for pytweening (pyproject.toml): finished with status 'done'\n",
      "  Created wheel for pytweening: filename=pytweening-1.2.0-py3-none-any.whl size=8135 sha256=46398cf0aab68359da356d77577ded10b40ba9e074439775f3803f72e0930e82\n",
      "  Stored in directory: c:\\users\\qbvmv\\appdata\\local\\pip\\cache\\wheels\\e7\\89\\f5\\71248cbe0cc120d985c1976f8f2f31675069644c23ff03abfc\n",
      "  Building wheel for mouseinfo (pyproject.toml): started\n",
      "  Building wheel for mouseinfo (pyproject.toml): finished with status 'done'\n",
      "  Created wheel for mouseinfo: filename=mouseinfo-0.1.3-py3-none-any.whl size=10967 sha256=46ce5a9a1508277cf38573c1a2ef8a60250577162fb3d1e9d21e174ac915e408\n",
      "  Stored in directory: c:\\users\\qbvmv\\appdata\\local\\pip\\cache\\wheels\\61\\5c\\24\\7d8ed078555f30e8f23fbc97f6361242a2cb4437ddd0384389\n",
      "  Building wheel for pymsgbox (pyproject.toml): started\n",
      "  Building wheel for pymsgbox (pyproject.toml): finished with status 'done'\n",
      "  Created wheel for pymsgbox: filename=pymsgbox-1.0.9-py3-none-any.whl size=7467 sha256=337fc772fe8701e470d76d37fed4a4249853246254be82ccb473ffe2462561cb\n",
      "  Stored in directory: c:\\users\\qbvmv\\appdata\\local\\pip\\cache\\wheels\\02\\b3\\8f\\8105b9948d1e23d9ad0d9de8d7f198aee5c7575aeba878ea82\n",
      "  Building wheel for pyperclip (pyproject.toml): started\n",
      "  Building wheel for pyperclip (pyproject.toml): finished with status 'done'\n",
      "  Created wheel for pyperclip: filename=pyperclip-1.9.0-py3-none-any.whl size=11117 sha256=bc134101ceab59e7730d519f8d9b75b747b86345954835662cb92b3ae4ef0451\n",
      "  Stored in directory: c:\\users\\qbvmv\\appdata\\local\\pip\\cache\\wheels\\9c\\79\\90\\c9e831caaffa2633ad99f1d35c6ea39866b92de62e909e89ef\n",
      "  Building wheel for pyrect (pyproject.toml): started\n",
      "  Building wheel for pyrect (pyproject.toml): finished with status 'done'\n",
      "  Created wheel for pyrect: filename=pyrect-0.2.0-py2.py3-none-any.whl size=11306 sha256=af02aa7040e0aa70573c1de868e2655fdc9d90901812831a9f91a68107870ccf\n",
      "  Stored in directory: c:\\users\\qbvmv\\appdata\\local\\pip\\cache\\wheels\\1e\\84\\e3\\83782b4a92f3d4d5b7fff5c36bf8c31922719e0695ee854cf0\n",
      "Successfully built pyautogui pygetwindow pyscreeze pytweening mouseinfo pymsgbox pyperclip pyrect\n",
      "Installing collected packages: pytweening, pyscreeze, pyrect, pyperclip, pymsgbox, pygetwindow, mouseinfo, pyautogui\n",
      "\n",
      "   -------------------- ------------------- 4/8 [pymsgbox]\n",
      "   ------------------------------ --------- 6/8 [mouseinfo]\n",
      "   ----------------------------------- ---- 7/8 [pyautogui]\n",
      "   ---------------------------------------- 8/8 [pyautogui]\n",
      "\n",
      "Successfully installed mouseinfo-0.1.3 pyautogui-0.9.54 pygetwindow-0.0.9 pymsgbox-1.0.9 pyperclip-1.9.0 pyrect-0.2.0 pyscreeze-1.0.1 pytweening-1.2.0\n",
      "Note: you may need to restart the kernel to use updated packages.\n"
     ]
    }
   ],
   "source": [
    "pip install pyautogui"
   ]
  },
  {
   "cell_type": "code",
   "execution_count": 5,
   "id": "ed1b9eea",
   "metadata": {},
   "outputs": [
    {
     "data": {
      "text/plain": [
       "Point(x=19, y=969)"
      ]
     },
     "execution_count": 5,
     "metadata": {},
     "output_type": "execute_result"
    }
   ],
   "source": [
    "import pyautogui\n",
    "import time\n",
    "\n",
    "time.sleep(2)\n",
    "pyautogui.position()"
   ]
  },
  {
   "cell_type": "code",
   "execution_count": 6,
   "id": "b77a0c79",
   "metadata": {},
   "outputs": [],
   "source": [
    "pyautogui.moveTo(19, 969, duration=2)"
   ]
  },
  {
   "cell_type": "code",
   "execution_count": 7,
   "id": "2c434446",
   "metadata": {},
   "outputs": [],
   "source": [
    "pyautogui.moveTo(19, 969, duration=2)\n",
    "pyautogui.click()"
   ]
  },
  {
   "cell_type": "code",
   "execution_count": null,
   "id": "5bcac92c",
   "metadata": {},
   "outputs": [],
   "source": []
  }
 ],
 "metadata": {
  "kernelspec": {
   "display_name": "Python 3",
   "language": "python",
   "name": "python3"
  },
  "language_info": {
   "codemirror_mode": {
    "name": "ipython",
    "version": 3
   },
   "file_extension": ".py",
   "mimetype": "text/x-python",
   "name": "python",
   "nbconvert_exporter": "python",
   "pygments_lexer": "ipython3",
   "version": "3.13.7"
  }
 },
 "nbformat": 4,
 "nbformat_minor": 5
}
