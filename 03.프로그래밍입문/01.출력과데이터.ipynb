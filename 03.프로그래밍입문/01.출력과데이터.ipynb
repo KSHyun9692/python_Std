{
 "cells": [
  {
   "cell_type": "code",
   "execution_count": 1,
   "id": "08c5e91f",
   "metadata": {},
   "outputs": [
    {
     "name": "stdout",
     "output_type": "stream",
     "text": [
      "start\n"
     ]
    }
   ],
   "source": [
    "print(\"start\")"
   ]
  },
  {
   "cell_type": "code",
   "execution_count": 4,
   "id": "d0e9a6df",
   "metadata": {},
   "outputs": [
    {
     "name": "stdout",
     "output_type": "stream",
     "text": [
      "start\n",
      "srtat\n"
     ]
    }
   ],
   "source": [
    "print('start')\n",
    "print(\"srtat\")"
   ]
  },
  {
   "cell_type": "code",
   "execution_count": null,
   "id": "26ce3391",
   "metadata": {},
   "outputs": [
    {
     "name": "stdout",
     "output_type": "stream",
     "text": [
      "222\n"
     ]
    }
   ],
   "source": [
    "print(222222)"
   ]
  },
  {
   "cell_type": "code",
   "execution_count": null,
   "id": "20351380",
   "metadata": {},
   "outputs": [],
   "source": []
  }
 ],
 "metadata": {
  "kernelspec": {
   "display_name": "Python 3",
   "language": "python",
   "name": "python3"
  },
  "language_info": {
   "codemirror_mode": {
    "name": "ipython",
    "version": 3
   },
   "file_extension": ".py",
   "mimetype": "text/x-python",
   "name": "python",
   "nbconvert_exporter": "python",
   "pygments_lexer": "ipython3",
   "version": "3.13.7"
  }
 },
 "nbformat": 4,
 "nbformat_minor": 5
}
