{
 "cells": [
  {
   "cell_type": "code",
   "execution_count": null,
   "id": "f5968e31",
   "metadata": {},
   "outputs": [
    {
     "name": "stdout",
     "output_type": "stream",
     "text": [
      "None\n"
     ]
    }
   ],
   "source": [
    "#정적페이지 크롤링 방법으로는 불가능\n",
    "import requests\n",
    "from bs4 import BeautifulSoup\n",
    "\n",
    "#주소 요청\n",
    "response = requests.get(\"https://www.naver.com/\")\n",
    "#통신 상태 코드\n",
    "#print(response.status_code)\n",
    "html = response.text\n",
    "soup = BeautifulSoup(html, 'html.parser')\n",
    "print(soup.select_one(\"#footer > div > div.notice_area > div > h3 > a\"))"
   ]
  },
  {
   "cell_type": "code",
   "execution_count": null,
   "id": "edc11a64",
   "metadata": {},
   "outputs": [
    {
     "data": {
      "text/plain": [
       "<a href=\"https://www.naver.com/NOTICE\" target=\"_blank\">공지사항</a>"
      ]
     },
     "execution_count": 5,
     "metadata": {},
     "output_type": "execute_result"
    }
   ],
   "source": [
    "from selenium import webdriver\n",
    "from selenium.webdriver.common.by import By\n",
    "from selenium.webdriver.common.keys import Keys\n",
    "\n",
    "#크롬 드라이버 생성\n",
    "driver = webdriver.Chrome()\n",
    "\n",
    "#페이지 이동\n",
    "driver.get(\"http://www.naver.com\")\n",
    "\n",
    "#현재 드라이버의 HTML 가져오기\n",
    "html = driver.page_source\n",
    "soup = BeautifulSoup(html, 'html.parser')\n",
    "\n",
    "soup.select_one(\"#footer > div > div.notice_area > div > h3 > a\").text\n",
    "\n"
   ]
  }
 ],
 "metadata": {
  "kernelspec": {
   "display_name": "Python 3",
   "language": "python",
   "name": "python3"
  },
  "language_info": {
   "codemirror_mode": {
    "name": "ipython",
    "version": 3
   },
   "file_extension": ".py",
   "mimetype": "text/x-python",
   "name": "python",
   "nbconvert_exporter": "python",
   "pygments_lexer": "ipython3",
   "version": "3.13.7"
  }
 },
 "nbformat": 4,
 "nbformat_minor": 5
}
