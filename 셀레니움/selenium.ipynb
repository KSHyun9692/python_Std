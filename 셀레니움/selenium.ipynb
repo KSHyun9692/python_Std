{
 "cells": [
  {
   "cell_type": "code",
   "execution_count": null,
   "id": "7176af11",
   "metadata": {},
   "outputs": [],
   "source": [
    "pip install selenium==4.17.2"
   ]
  },
  {
   "cell_type": "code",
   "execution_count": 5,
   "id": "05217c73",
   "metadata": {},
   "outputs": [],
   "source": [
    "from selenium import webdriver\n",
    "from selenium.webdriver.common.by import By\n",
    "from selenium.webdriver.common.keys import Keys\n",
    "\n",
    "#크롬 드라이버 생성\n",
    "driver = webdriver.Chrome()\n",
    "\n",
    "#페이지 이동\n",
    "driver.get(\"http://www.naver.com\")\n",
    "\n",
    "#태그 찾기\n",
    "search = driver.find_element(By.CSS_SELECTOR, \"#query\")\n",
    "\n",
    "#클릭\n",
    "search.click()\n",
    "\n",
    "#문자 입력\n",
    "search.send_keys(\"검색\")\n",
    "\n",
    "#키 입력\n",
    "search.send_keys(Keys.ENTER)"
   ]
  }
 ],
 "metadata": {
  "kernelspec": {
   "display_name": "Python 3",
   "language": "python",
   "name": "python3"
  },
  "language_info": {
   "codemirror_mode": {
    "name": "ipython",
    "version": 3
   },
   "file_extension": ".py",
   "mimetype": "text/x-python",
   "name": "python",
   "nbconvert_exporter": "python",
   "pygments_lexer": "ipython3",
   "version": "3.13.7"
  }
 },
 "nbformat": 4,
 "nbformat_minor": 5
}
